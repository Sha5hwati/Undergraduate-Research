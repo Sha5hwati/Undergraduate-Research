{
 "cells": [
  {
   "cell_type": "code",
   "execution_count": 1,
   "metadata": {},
   "outputs": [
    {
     "name": "stderr",
     "output_type": "stream",
     "text": [
      "/home/shashwati/anaconda3/envs/py35/lib/python3.5/site-packages/h5py/__init__.py:36: FutureWarning: Conversion of the second argument of issubdtype from `float` to `np.floating` is deprecated. In future, it will be treated as `np.float64 == np.dtype(float).type`.\n",
      "  from ._conv import register_converters as _register_converters\n",
      "Using TensorFlow backend.\n"
     ]
    }
   ],
   "source": [
    "from keras.models import Sequential\n",
    "from keras.layers import Dense\n",
    "import numpy as np\n",
    "import time\n",
    "import csv\n",
    "import os\n",
    "\n",
    "from sklearn import preprocessing\n",
    "\n",
    "from sklearn.preprocessing import  MinMaxScaler\n",
    "from sklearn.metrics import mean_absolute_error\n",
    "from sklearn.metrics import mean_squared_error\n"
   ]
  },
  {
   "cell_type": "code",
   "execution_count": 2,
   "metadata": {},
   "outputs": [],
   "source": [
    "# load training dataset\n",
    "dataset = np.genfromtxt(\"YearPredictionMSD.csv\", dtype='float', delimiter=\",\")"
   ]
  },
  {
   "cell_type": "code",
   "execution_count": 3,
   "metadata": {},
   "outputs": [],
   "source": [
    "# split into input (X) and output (Y) variables and preprocessing\n",
    "\n",
    "train_X = dataset[0:463715,1:91]\n",
    "# Scale the features so they have 0 mean\n",
    "train_X = preprocessing.scale(train_X)\n",
    "\n",
    "sc= MinMaxScaler()\n",
    "train_Y = dataset[0:463715,0]\n",
    "train_Y = train_Y.reshape(-1,1)\n",
    "train_Y = sc.fit_transform(train_Y)\n",
    "\n",
    "test_X = dataset[463715:,1:91]\n",
    "test_X = preprocessing.scale(test_X)\n",
    "\n",
    "test_Y = dataset[463715:,0]\n",
    "test_Y = test_Y.reshape(-1,1)\n",
    "test_Y = sc.fit_transform(test_Y)"
   ]
  },
  {
   "cell_type": "code",
   "execution_count": 4,
   "metadata": {},
   "outputs": [
    {
     "name": "stdout",
     "output_type": "stream",
     "text": [
      "Epoch 1/3\n",
      "463715/463715 [==============================] - 70s 150us/step - loss: 0.0113 - mean_absolute_error: 0.0733 - acc: 2.1565e-06\n",
      "Epoch 2/3\n",
      "463715/463715 [==============================] - 70s 150us/step - loss: 0.0098 - mean_absolute_error: 0.0686 - acc: 2.1565e-06\n",
      "Epoch 3/3\n",
      "463715/463715 [==============================] - 70s 151us/step - loss: 0.0096 - mean_absolute_error: 0.0677 - acc: 2.1565e-06\n"
     ]
    }
   ],
   "source": [
    "# training the neural network model\n",
    "start = time.time()\n",
    "\n",
    "model = Sequential()\n",
    "model.add(Dense(90, input_dim=90, kernel_initializer='normal', activation='relu'))\n",
    "model.add(Dense(90, kernel_initializer='normal', activation='relu'))\n",
    "model.add(Dense(90, kernel_initializer='normal', activation='relu'))\n",
    "model.add(Dense(90, kernel_initializer='normal', activation='relu'))\n",
    "model.add(Dense(1, kernel_initializer='normal', activation='linear'))\n",
    "model.compile(loss='mean_squared_error', optimizer='adam', metrics=['mae','accuracy'])\n",
    "model.fit(train_X, train_Y, epochs=3, batch_size=32)\n",
    "\n",
    "end = time.time()"
   ]
  },
  {
   "cell_type": "code",
   "execution_count": 5,
   "metadata": {},
   "outputs": [
    {
     "name": "stdout",
     "output_type": "stream",
     "text": [
      "Training time:  209.6338\n"
     ]
    }
   ],
   "source": [
    "# training time\n",
    "print(\"Training time: \", round(end - start, 5))"
   ]
  },
  {
   "cell_type": "code",
   "execution_count": 6,
   "metadata": {},
   "outputs": [
    {
     "name": "stdout",
     "output_type": "stream",
     "text": [
      "6.080521999420457 78.29599705086922\n"
     ]
    }
   ],
   "source": [
    "# predicting for test data\n",
    "# results scaled between 0 - 1\n",
    "pred = model.predict(test_X)\n",
    "pred = pred.ravel()\n",
    "pred = pred.reshape(-1,1)\n",
    "\n",
    "# getting the the original values\n",
    "label_test = sc.inverse_transform(test_Y)\n",
    "pred = sc.inverse_transform(pred)\n",
    "\n",
    "print(mean_absolute_error(label_test,  pred), mean_squared_error(label_test, pred))"
   ]
  },
  {
   "cell_type": "code",
   "execution_count": 7,
   "metadata": {},
   "outputs": [
    {
     "name": "stdout",
     "output_type": "stream",
     "text": [
      "[[2002.8302]\n",
      " [2002.4656]\n",
      " [2001.7264]\n",
      " [2004.5768]\n",
      " [2004.3024]\n",
      " [2000.4031]\n",
      " [2002.8789]\n",
      " [2001.239 ]\n",
      " [1997.0228]\n",
      " [2001.8604]]\n",
      "[[2007.]\n",
      " [2003.]\n",
      " [2005.]\n",
      " [2003.]\n",
      " [2005.]\n",
      " [2007.]\n",
      " [2003.]\n",
      " [2003.]\n",
      " [2003.]\n",
      " [2005.]]\n"
     ]
    }
   ],
   "source": [
    "print(pred[0:10])\n",
    "print(label_test[0:10])"
   ]
  },
  {
   "cell_type": "code",
   "execution_count": null,
   "metadata": {},
   "outputs": [],
   "source": []
  },
  {
   "cell_type": "code",
   "execution_count": null,
   "metadata": {},
   "outputs": [],
   "source": []
  }
 ],
 "metadata": {
  "kernelspec": {
   "display_name": "Python 3",
   "language": "python",
   "name": "python3"
  },
  "language_info": {
   "codemirror_mode": {
    "name": "ipython",
    "version": 3
   },
   "file_extension": ".py",
   "mimetype": "text/x-python",
   "name": "python",
   "nbconvert_exporter": "python",
   "pygments_lexer": "ipython3",
   "version": "3.5.5"
  }
 },
 "nbformat": 4,
 "nbformat_minor": 2
}
