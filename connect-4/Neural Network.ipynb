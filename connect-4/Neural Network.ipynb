{
 "cells": [
  {
   "cell_type": "code",
   "execution_count": 50,
   "metadata": {},
   "outputs": [],
   "source": [
    "from keras.models import Sequential\n",
    "from keras.layers import Dense\n",
    "import numpy\n",
    "import time\n",
    "\n",
    "from keras.utils import np_utils\n",
    "from sklearn.preprocessing import LabelEncoder\n",
    "\n",
    "from sklearn.metrics import accuracy_score\n",
    "from sklearn.metrics import confusion_matrix\n",
    "\n",
    "from sklearn.model_selection import train_test_split"
   ]
  },
  {
   "cell_type": "code",
   "execution_count": 51,
   "metadata": {},
   "outputs": [],
   "source": [
    "# fix random seed for reproducibility\n",
    "seed = 7\n",
    "numpy.random.seed(seed)"
   ]
  },
  {
   "cell_type": "code",
   "execution_count": 52,
   "metadata": {},
   "outputs": [],
   "source": [
    "# load connect 4 dataset\n",
    "dataset = numpy.genfromtxt(\"connect-4.csv\", dtype='str', delimiter=\",\")"
   ]
  },
  {
   "cell_type": "code",
   "execution_count": 53,
   "metadata": {},
   "outputs": [],
   "source": [
    "# split into input (X) and output (Y) variables\n",
    "preX = dataset[:,0:42]\n",
    "preY = dataset[:,42]\n",
    "\n",
    "X = numpy.zeros(preX.shape)\n",
    "Y = numpy.zeros(preY.shape)"
   ]
  },
  {
   "cell_type": "code",
   "execution_count": 54,
   "metadata": {},
   "outputs": [],
   "source": [
    "# converting predictors into numerical data\n",
    "for i, row in enumerate(preX):\n",
    "    for j, col in enumerate(row):\n",
    "        if col == 'x':\n",
    "            X[i,j] = 1.0\n",
    "        if col == 'o':\n",
    "            X[i,j] = -1.0\n",
    "        if col == 'b':\n",
    "            X[i,j] = 0.0\n"
   ]
  },
  {
   "cell_type": "code",
   "execution_count": 55,
   "metadata": {},
   "outputs": [],
   "source": [
    "# converting categorical variable into numerical values\n",
    "encoder = LabelEncoder()\n",
    "encoder.fit(preY)\n",
    "\n",
    "# code: 0 - draw; 1 - loss; 2 -win\n",
    "encoded_Y = encoder.transform(preY)\n",
    "dummy_y = np_utils.to_categorical(encoded_Y)"
   ]
  },
  {
   "cell_type": "code",
   "execution_count": 56,
   "metadata": {},
   "outputs": [],
   "source": [
    "# splitting the dataset into 80% training and 20% test data set\n",
    "train, test, label_train, label_test = train_test_split(X, dummy_y,test_size = 0.2)"
   ]
  },
  {
   "cell_type": "code",
   "execution_count": 57,
   "metadata": {},
   "outputs": [
    {
     "name": "stdout",
     "output_type": "stream",
     "text": [
      "Epoch 1/5\n",
      "54045/54045 [==============================] - 43s 797us/step - loss: 0.6293 - acc: 0.7459\n",
      "Epoch 2/5\n",
      "54045/54045 [==============================] - 44s 808us/step - loss: 0.5729 - acc: 0.7708\n",
      "Epoch 3/5\n",
      "54045/54045 [==============================] - 44s 808us/step - loss: 0.5640 - acc: 0.7742\n",
      "Epoch 4/5\n",
      "54045/54045 [==============================] - 35s 644us/step - loss: 0.5597 - acc: 0.7751\n",
      "Epoch 5/5\n",
      "54045/54045 [==============================] - 27s 498us/step - loss: 0.5576 - acc: 0.7764\n"
     ]
    }
   ],
   "source": [
    "# training the neural network model\n",
    "start = time.time()\n",
    "\n",
    "model = Sequential()\n",
    "model.add(Dense(8, input_dim=42, activation='relu'))\n",
    "model.add(Dense(3, activation='softmax'))\n",
    "model.compile(loss='categorical_crossentropy', optimizer='adam', metrics=['accuracy'])\n",
    "model.fit(train, label_train, epochs=5, batch_size=5)\n",
    "\n",
    "end = time.time()"
   ]
  },
  {
   "cell_type": "code",
   "execution_count": 58,
   "metadata": {},
   "outputs": [],
   "source": [
    "# predicting the test data\n",
    "pred = model.predict(test)\n",
    "pred = numpy.argmax(pred, axis=1)\n",
    "label_test = numpy.argmax(label_test, axis=1)"
   ]
  },
  {
   "cell_type": "code",
   "execution_count": 59,
   "metadata": {},
   "outputs": [],
   "source": [
    "# the function to calculate the metrics\n",
    "def metrics(cm, cl, size):\n",
    "    cm = numpy.array(cm)\n",
    "    tp = cm[cl][cl]\n",
    "    fp = sum(cm[x, cl] for x in range(3))-cm[cl][cl]\n",
    "    fn = sum(cm[cl, x] for x in range(3))-cm[cl][cl]\n",
    "    tn = size - tp - fp - fn\n",
    "    precision = tp/(tp+fp)\n",
    "    recall = tp/(tp+fn)\n",
    "    fmeasure = 2*(precision*recall)/(precision + recall)\n",
    "    accuracy = (tp + tn)/size\n",
    "    \n",
    "    return precision, recall, fmeasure, accuracy"
   ]
  },
  {
   "cell_type": "code",
   "execution_count": 60,
   "metadata": {},
   "outputs": [
    {
     "name": "stdout",
     "output_type": "stream",
     "text": [
      "Confusion matrix: \n",
      "[[  12  376  857]\n",
      " [   8 2329 1053]\n",
      " [   8  705 8164]]\n"
     ]
    }
   ],
   "source": [
    "# getting the confusion matrix\n",
    "cm = confusion_matrix(label_test, pred)\n",
    "print(\"Confusion matrix: \")\n",
    "print(cm)"
   ]
  },
  {
   "cell_type": "code",
   "execution_count": 67,
   "metadata": {},
   "outputs": [
    {
     "name": "stdout",
     "output_type": "stream",
     "text": [
      "                Precision Recall F-measure Accuracy\n",
      "Class 0 (draw):  0.429    0.01   0.019     0.908\n"
     ]
    }
   ],
   "source": [
    "# metrics for class 0 (draw)\n",
    "precision0, recall0, f0, acc0 = metrics(cm, 0, len(test))\n",
    "print(\"                Precision Recall F-measure Accuracy\")\n",
    "print(\"Class 0 (draw): \", round(precision0, 3), \"  \", round(recall0, 3), \\\n",
    "      \" \", round(f0, 3), \"   \", round(acc0,3))"
   ]
  },
  {
   "cell_type": "code",
   "execution_count": 68,
   "metadata": {},
   "outputs": [
    {
     "name": "stdout",
     "output_type": "stream",
     "text": [
      "                Precision Recall F-measure Accuracy\n",
      "Class 1 (loss):  0.683    0.687   0.685     0.841\n"
     ]
    }
   ],
   "source": [
    "# metrics for class 1 (lose)\n",
    "precision1, recall1, f1, acc1 = metrics(cm, 1, len(test))\n",
    "print(\"                Precision Recall F-measure Accuracy\")\n",
    "print(\"Class 1 (loss): \", round(precision1, 3), \"  \", round(recall1, 3), \\\n",
    "      \" \", round(f1, 3), \"   \", round(acc1,3))"
   ]
  },
  {
   "cell_type": "code",
   "execution_count": 69,
   "metadata": {},
   "outputs": [
    {
     "name": "stdout",
     "output_type": "stream",
     "text": [
      "                Precision Recall F-measure Accuracy\n",
      "Class 2 (win):  0.81    0.92   0.862     0.806\n"
     ]
    }
   ],
   "source": [
    "# metrics for class 2 (win)\n",
    "precision2, recall2, f2, acc2 = metrics(cm, 2, len(test))\n",
    "print(\"                Precision Recall F-measure Accuracy\")\n",
    "print(\"Class 2 (win): \", round(precision2, 3), \"  \", round(recall2, 3), \\\n",
    "      \" \", round(f2, 3), \"   \", round(acc2,3))"
   ]
  },
  {
   "cell_type": "code",
   "execution_count": 64,
   "metadata": {},
   "outputs": [
    {
     "name": "stdout",
     "output_type": "stream",
     "text": [
      "Average:  0.64 0.54 0.52 0.85\n"
     ]
    }
   ],
   "source": [
    "# average metrics\n",
    "avg_p = (precision0 + precision1 + precision2)/3.0\n",
    "avg_r = (recall0 + recall1 + recall2) / 3.0\n",
    "avg_f = (f0 + f1 + f2) / 3.0\n",
    "avg_a = (acc0 + acc1 + acc2)/ 3.0\n",
    "print(\"        Precision Recall F-measure Accuracy\")\n",
    "print(\"Average: \", round(avg_p, 3), \"  \", round(avg_r, 3), \\\n",
    "      \" \", round(avg_f, 3), \"   \", round(avg_a,3))"
   ]
  },
  {
   "cell_type": "code",
   "execution_count": 65,
   "metadata": {},
   "outputs": [
    {
     "name": "stdout",
     "output_type": "stream",
     "text": [
      "Training time:  192.61302  sec\n"
     ]
    }
   ],
   "source": [
    "# training time\n",
    "print(\"Training time: \", round(end - start, 5), \" sec\")"
   ]
  },
  {
   "cell_type": "code",
   "execution_count": 66,
   "metadata": {},
   "outputs": [
    {
     "name": "stdout",
     "output_type": "stream",
     "text": [
      "Accuracy score:  0.77746\n"
     ]
    }
   ],
   "source": [
    "# accuracy score - number of instances correctly classified\n",
    "print(\"Accuracy score: \", round(accuracy_score(label_test, pred), 5))"
   ]
  },
  {
   "cell_type": "code",
   "execution_count": null,
   "metadata": {},
   "outputs": [],
   "source": []
  }
 ],
 "metadata": {
  "kernelspec": {
   "display_name": "Python 3",
   "language": "python",
   "name": "python3"
  },
  "language_info": {
   "codemirror_mode": {
    "name": "ipython",
    "version": 3
   },
   "file_extension": ".py",
   "mimetype": "text/x-python",
   "name": "python",
   "nbconvert_exporter": "python",
   "pygments_lexer": "ipython3",
   "version": "3.5.5"
  }
 },
 "nbformat": 4,
 "nbformat_minor": 2
}
