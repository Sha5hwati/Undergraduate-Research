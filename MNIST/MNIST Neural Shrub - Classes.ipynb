{
 "cells": [
  {
   "cell_type": "code",
   "execution_count": 1,
   "metadata": {},
   "outputs": [
    {
     "name": "stderr",
     "output_type": "stream",
     "text": [
      "/home/shashwati/anaconda3/envs/py35/lib/python3.5/site-packages/h5py/__init__.py:36: FutureWarning: Conversion of the second argument of issubdtype from `float` to `np.floating` is deprecated. In future, it will be treated as `np.float64 == np.dtype(float).type`.\n",
      "  from ._conv import register_converters as _register_converters\n",
      "Using TensorFlow backend.\n"
     ]
    }
   ],
   "source": [
    "import time\n",
    "import mnist\n",
    "import numpy as np\n",
    "\n",
    "from sklearn.tree import DecisionTreeClassifier\n",
    "\n",
    "from keras.utils import np_utils\n",
    "from keras import Sequential\n",
    "from keras import layers\n",
    "    "
   ]
  },
  {
   "cell_type": "code",
   "execution_count": 2,
   "metadata": {},
   "outputs": [],
   "source": [
    "# gets the data\n",
    "def get_data():\n",
    "    test = mnist.test_images()\n",
    "    label_test = mnist.test_labels()\n",
    "    train = mnist.train_images()\n",
    "    label_train = mnist.train_labels()\n",
    "    \n",
    "    nsamples, nx, ny = train.shape\n",
    "    train = train.reshape((nsamples,nx*ny))\n",
    "    \n",
    "    nsamples, nx, ny = test.shape\n",
    "    test = test.reshape((nsamples,nx*ny))\n",
    "    \n",
    "    return train, label_train, test, label_test"
   ]
  },
  {
   "cell_type": "code",
   "execution_count": 3,
   "metadata": {},
   "outputs": [],
   "source": [
    "from sklearn.tree._tree import TREE_LEAF\n",
    "\n",
    "def prune_index(inner_tree, index, threshold):\n",
    "    if inner_tree.value[index].min() < threshold:\n",
    "        # turn node into a leaf by \"unlinking\" its children\n",
    "        inner_tree.children_left[index] = TREE_LEAF\n",
    "        inner_tree.children_right[index] = TREE_LEAF\n",
    "    # if there are shildren, visit them as well\n",
    "    if inner_tree.children_left[index] != TREE_LEAF:\n",
    "        prune_index(inner_tree, inner_tree.children_left[index], threshold)\n",
    "        prune_index(inner_tree, inner_tree.children_right[index], threshold)"
   ]
  },
  {
   "cell_type": "code",
   "execution_count": 4,
   "metadata": {},
   "outputs": [],
   "source": [
    "# builds the decision tree of depth 10\n",
    "def decision_tree(train, label):\n",
    "    dt = DecisionTreeClassifier(max_depth = 10, random_state = 1)\n",
    "    dt.fit(train, label)\n",
    "    prune_index(dt.tree_, 0, 1)\n",
    "    return dt"
   ]
  },
  {
   "cell_type": "code",
   "execution_count": 5,
   "metadata": {},
   "outputs": [],
   "source": [
    "# building the neural network\n",
    "def neural_network(class_data):\n",
    "    num_train = []\n",
    "    num_label = []\n",
    "    for x in class_data:\n",
    "        num_train.append(x[0])\n",
    "        num_label.append(x[1])\n",
    "    \n",
    "    n_classes = 10\n",
    "    num_train = np.matrix(num_train).astype('float32')/255\n",
    "    num_label = np.array(num_label)\n",
    "    num_label = np_utils.to_categorical(num_label, n_classes)\n",
    "    \n",
    "    model = Sequential()\n",
    "    model.add(layers.Dense(512, activation = 'relu', input_shape=(784,)))\n",
    "    model.add(layers.Dense(512, activation = 'relu'))\n",
    "    model.add(layers.Dense(10, activation = 'softmax'))\n",
    "    \n",
    "    model.compile(loss='categorical_crossentropy', metrics=['accuracy'], \\\n",
    "                  optimizer='adam')\n",
    "    model.fit(num_train, num_label, batch_size=128, epochs=10)\n",
    "    return model"
   ]
  },
  {
   "cell_type": "code",
   "execution_count": 6,
   "metadata": {},
   "outputs": [],
   "source": [
    "# building the neural network for each class\n",
    "def neural_shrubs(tree, train, label):\n",
    "    train = np.array(train)\n",
    "    label = np.array(label)\n",
    "  \n",
    "    # leave_id: index of the leaf that cantains the instance\n",
    "    leave_id = tree.apply(train) \n",
    "\n",
    "    num_class = 10\n",
    "    classes = [[] for i in range(0, num_class)] \n",
    "\n",
    "    for x in range(len(train)):\n",
    "        leaf = leave_id[x]\n",
    "        \n",
    "        # Gets the class for each leaf\n",
    "        #.value: returns the distributition at the leaf, \n",
    "        #        i.e number of instance in each class at that leaf\n",
    "        #.argmax(): returns the class which has the max instance\n",
    "        #        i.e here: (0, 1, 2) - it is 0-indexed\n",
    "        idx = np.array(tree.tree_.value[leaf]).argmax() \n",
    "\n",
    "        # insert the instance into the class\n",
    "        classes[idx].append([train[x], label[x]])\n",
    "    \n",
    "    # stores the neural network for each class\n",
    "    nn_models = []\n",
    "    \n",
    "    #stores the max time taken to build a neural network\n",
    "    max_time = 0;\n",
    "\n",
    "    for x in range(num_class):\n",
    "        start = time.time()\n",
    "        model = neural_network(classes[x])\n",
    "        end = time.time()\n",
    "        \n",
    "        time_taken = end - start\n",
    "        if max_time < time_taken:\n",
    "            max_time = time_taken\n",
    "            \n",
    "        nn_models.append(model)\n",
    "\n",
    "    # returns a neural network for each class and the max \n",
    "    # time taken to build the neural network\n",
    "    return nn_models, max_time"
   ]
  },
  {
   "cell_type": "code",
   "execution_count": 7,
   "metadata": {},
   "outputs": [
    {
     "name": "stdout",
     "output_type": "stream",
     "text": [
      "Epoch 1/10\n",
      "5440/5440 [==============================] - 1s 215us/step - loss: 0.4098 - acc: 0.8866\n",
      "Epoch 2/10\n",
      "5440/5440 [==============================] - 1s 134us/step - loss: 0.1360 - acc: 0.9603\n",
      "Epoch 3/10\n",
      "5440/5440 [==============================] - 1s 136us/step - loss: 0.0756 - acc: 0.9776\n",
      "Epoch 4/10\n",
      "5440/5440 [==============================] - 1s 139us/step - loss: 0.0472 - acc: 0.9860\n",
      "Epoch 5/10\n",
      "5440/5440 [==============================] - 1s 137us/step - loss: 0.0336 - acc: 0.9901\n",
      "Epoch 6/10\n",
      "5440/5440 [==============================] - 1s 132us/step - loss: 0.0187 - acc: 0.9960\n",
      "Epoch 7/10\n",
      "5440/5440 [==============================] - 1s 141us/step - loss: 0.0083 - acc: 0.9983\n",
      "Epoch 8/10\n",
      "5440/5440 [==============================] - 1s 139us/step - loss: 0.0040 - acc: 0.9996\n",
      "Epoch 9/10\n",
      "5440/5440 [==============================] - 1s 139us/step - loss: 0.0020 - acc: 1.0000\n",
      "Epoch 10/10\n",
      "5440/5440 [==============================] - 1s 137us/step - loss: 0.0012 - acc: 1.0000\n",
      "Epoch 1/10\n",
      "7303/7303 [==============================] - 1s 188us/step - loss: 0.3888 - acc: 0.8970\n",
      "Epoch 2/10\n",
      "7303/7303 [==============================] - 1s 138us/step - loss: 0.1208 - acc: 0.9634\n",
      "Epoch 3/10\n",
      "7303/7303 [==============================] - 1s 139us/step - loss: 0.0662 - acc: 0.9817\n",
      "Epoch 4/10\n",
      "7303/7303 [==============================] - 1s 135us/step - loss: 0.0408 - acc: 0.9881\n",
      "Epoch 5/10\n",
      "7303/7303 [==============================] - 1s 139us/step - loss: 0.0317 - acc: 0.9901\n",
      "Epoch 6/10\n",
      "7303/7303 [==============================] - 1s 135us/step - loss: 0.0130 - acc: 0.9971\n",
      "Epoch 7/10\n",
      "7303/7303 [==============================] - 1s 137us/step - loss: 0.0079 - acc: 0.9988\n",
      "Epoch 8/10\n",
      "7303/7303 [==============================] - 1s 149us/step - loss: 0.0084 - acc: 0.9971\n",
      "Epoch 9/10\n",
      "7303/7303 [==============================] - 1s 143us/step - loss: 0.0057 - acc: 0.9989\n",
      "Epoch 10/10\n",
      "7303/7303 [==============================] - 1s 134us/step - loss: 0.0030 - acc: 0.9996\n",
      "Epoch 1/10\n",
      "5625/5625 [==============================] - 1s 219us/step - loss: 0.5039 - acc: 0.8583\n",
      "Epoch 2/10\n",
      "5625/5625 [==============================] - 1s 154us/step - loss: 0.1965 - acc: 0.9415\n",
      "Epoch 3/10\n",
      "5625/5625 [==============================] - 1s 155us/step - loss: 0.1121 - acc: 0.9696\n",
      "Epoch 4/10\n",
      "5625/5625 [==============================] - 1s 148us/step - loss: 0.0693 - acc: 0.9829\n",
      "Epoch 5/10\n",
      "5625/5625 [==============================] - 1s 140us/step - loss: 0.0415 - acc: 0.9874\n",
      "Epoch 6/10\n",
      "5625/5625 [==============================] - 1s 138us/step - loss: 0.0214 - acc: 0.9954\n",
      "Epoch 7/10\n",
      "5625/5625 [==============================] - 1s 136us/step - loss: 0.0154 - acc: 0.9973\n",
      "Epoch 8/10\n",
      "5625/5625 [==============================] - 1s 135us/step - loss: 0.0095 - acc: 0.9980\n",
      "Epoch 9/10\n",
      "5625/5625 [==============================] - 1s 136us/step - loss: 0.0041 - acc: 1.0000\n",
      "Epoch 10/10\n",
      "5625/5625 [==============================] - 1s 138us/step - loss: 0.0020 - acc: 1.0000\n",
      "Epoch 1/10\n",
      "4914/4914 [==============================] - 1s 217us/step - loss: 0.5001 - acc: 0.8541\n",
      "Epoch 2/10\n",
      "4914/4914 [==============================] - 1s 133us/step - loss: 0.1905 - acc: 0.9394\n",
      "Epoch 3/10\n",
      "4914/4914 [==============================] - 1s 136us/step - loss: 0.1057 - acc: 0.9670\n",
      "Epoch 4/10\n",
      "4914/4914 [==============================] - 1s 136us/step - loss: 0.0615 - acc: 0.9807\n",
      "Epoch 5/10\n",
      "4914/4914 [==============================] - 1s 141us/step - loss: 0.0454 - acc: 0.9878\n",
      "Epoch 6/10\n",
      "4914/4914 [==============================] - 1s 138us/step - loss: 0.0296 - acc: 0.9912\n",
      "Epoch 7/10\n",
      "4914/4914 [==============================] - 1s 135us/step - loss: 0.0142 - acc: 0.9974\n",
      "Epoch 8/10\n",
      "4914/4914 [==============================] - 1s 134us/step - loss: 0.0073 - acc: 0.9994\n",
      "Epoch 9/10\n",
      "4914/4914 [==============================] - 1s 140us/step - loss: 0.0041 - acc: 0.9998\n",
      "Epoch 10/10\n",
      "4914/4914 [==============================] - 1s 130us/step - loss: 0.0026 - acc: 0.9998\n",
      "Epoch 1/10\n",
      "4926/4926 [==============================] - 1s 224us/step - loss: 0.5462 - acc: 0.8601\n",
      "Epoch 2/10\n",
      "4926/4926 [==============================] - 1s 139us/step - loss: 0.2018 - acc: 0.9397\n",
      "Epoch 3/10\n",
      "4926/4926 [==============================] - 1s 138us/step - loss: 0.1091 - acc: 0.9679\n",
      "Epoch 4/10\n",
      "4926/4926 [==============================] - 1s 131us/step - loss: 0.0610 - acc: 0.9827\n",
      "Epoch 5/10\n",
      "4926/4926 [==============================] - 1s 136us/step - loss: 0.0368 - acc: 0.9905\n",
      "Epoch 6/10\n",
      "4926/4926 [==============================] - 1s 145us/step - loss: 0.0209 - acc: 0.9953\n",
      "Epoch 7/10\n",
      "4926/4926 [==============================] - 1s 135us/step - loss: 0.0135 - acc: 0.9974\n",
      "Epoch 8/10\n",
      "4926/4926 [==============================] - 1s 142us/step - loss: 0.0066 - acc: 0.9990\n",
      "Epoch 9/10\n",
      "4926/4926 [==============================] - 1s 142us/step - loss: 0.0051 - acc: 0.9990\n",
      "Epoch 10/10\n",
      "4926/4926 [==============================] - 1s 141us/step - loss: 0.0049 - acc: 0.9992\n",
      "Epoch 1/10\n",
      "5640/5640 [==============================] - 1s 226us/step - loss: 0.7148 - acc: 0.7752\n",
      "Epoch 2/10\n",
      "5640/5640 [==============================] - 1s 168us/step - loss: 0.2608 - acc: 0.9158\n",
      "Epoch 3/10\n",
      "5640/5640 [==============================] - 1s 153us/step - loss: 0.1466 - acc: 0.9544\n",
      "Epoch 4/10\n",
      "5640/5640 [==============================] - 1s 146us/step - loss: 0.1241 - acc: 0.9585\n",
      "Epoch 5/10\n",
      "5640/5640 [==============================] - 1s 138us/step - loss: 0.0607 - acc: 0.9835\n",
      "Epoch 6/10\n",
      "5640/5640 [==============================] - 1s 140us/step - loss: 0.0427 - acc: 0.9906\n",
      "Epoch 7/10\n",
      "5640/5640 [==============================] - 1s 134us/step - loss: 0.0239 - acc: 0.9957\n",
      "Epoch 8/10\n",
      "5640/5640 [==============================] - 1s 139us/step - loss: 0.0128 - acc: 0.9991\n",
      "Epoch 9/10\n",
      "5640/5640 [==============================] - 1s 143us/step - loss: 0.0097 - acc: 0.9991\n",
      "Epoch 10/10\n",
      "5640/5640 [==============================] - 1s 146us/step - loss: 0.0055 - acc: 1.0000\n",
      "Epoch 1/10\n",
      "6362/6362 [==============================] - 1s 215us/step - loss: 0.4952 - acc: 0.8544\n",
      "Epoch 2/10\n",
      "6362/6362 [==============================] - 1s 130us/step - loss: 0.1732 - acc: 0.9491\n",
      "Epoch 3/10\n",
      "6362/6362 [==============================] - 1s 131us/step - loss: 0.1005 - acc: 0.9719\n",
      "Epoch 4/10\n",
      "6362/6362 [==============================] - 1s 128us/step - loss: 0.0627 - acc: 0.9827\n",
      "Epoch 5/10\n",
      "6362/6362 [==============================] - 1s 132us/step - loss: 0.0416 - acc: 0.9881\n",
      "Epoch 6/10\n",
      "6362/6362 [==============================] - 1s 208us/step - loss: 0.0221 - acc: 0.9937\n",
      "Epoch 7/10\n",
      "6362/6362 [==============================] - 2s 252us/step - loss: 0.0142 - acc: 0.9978\n",
      "Epoch 8/10\n",
      "6362/6362 [==============================] - 1s 162us/step - loss: 0.0085 - acc: 0.9984\n",
      "Epoch 9/10\n",
      "6362/6362 [==============================] - 1s 152us/step - loss: 0.0069 - acc: 0.9989\n",
      "Epoch 10/10\n",
      "6362/6362 [==============================] - 1s 126us/step - loss: 0.0028 - acc: 1.0000 0s - loss: 0.0034 - a\n",
      "Epoch 1/10\n",
      "6107/6107 [==============================] - 1s 215us/step - loss: 0.4186 - acc: 0.8832\n",
      "Epoch 2/10\n",
      "6107/6107 [==============================] - 1s 134us/step - loss: 0.1486 - acc: 0.9556\n",
      "Epoch 3/10\n",
      "6107/6107 [==============================] - 1s 199us/step - loss: 0.0872 - acc: 0.9740\n",
      "Epoch 4/10\n",
      "6107/6107 [==============================] - 1s 187us/step - loss: 0.0533 - acc: 0.9849\n",
      "Epoch 5/10\n",
      "6107/6107 [==============================] - 1s 137us/step - loss: 0.0351 - acc: 0.9892\n",
      "Epoch 6/10\n",
      "6107/6107 [==============================] - 1s 129us/step - loss: 0.0232 - acc: 0.9936\n",
      "Epoch 7/10\n",
      "6107/6107 [==============================] - 1s 131us/step - loss: 0.0117 - acc: 0.9979\n",
      "Epoch 8/10\n",
      "6107/6107 [==============================] - 1s 133us/step - loss: 0.0058 - acc: 0.9993\n",
      "Epoch 9/10\n",
      "6107/6107 [==============================] - 1s 123us/step - loss: 0.0072 - acc: 0.9982\n",
      "Epoch 10/10\n",
      "6107/6107 [==============================] - 1s 138us/step - loss: 0.0055 - acc: 0.9984\n",
      "Epoch 1/10\n",
      "6578/6578 [==============================] - 1s 211us/step - loss: 0.7098 - acc: 0.7806\n",
      "Epoch 2/10\n",
      "6578/6578 [==============================] - 1s 126us/step - loss: 0.2681 - acc: 0.9220\n",
      "Epoch 3/10\n"
     ]
    },
    {
     "name": "stdout",
     "output_type": "stream",
     "text": [
      "6578/6578 [==============================] - 1s 129us/step - loss: 0.1813 - acc: 0.9465\n",
      "Epoch 4/10\n",
      "6578/6578 [==============================] - 1s 134us/step - loss: 0.1229 - acc: 0.9641\n",
      "Epoch 5/10\n",
      "6578/6578 [==============================] - 1s 131us/step - loss: 0.0837 - acc: 0.9758\n",
      "Epoch 6/10\n",
      "6578/6578 [==============================] - 1s 129us/step - loss: 0.0569 - acc: 0.9839\n",
      "Epoch 7/10\n",
      "6578/6578 [==============================] - 1s 127us/step - loss: 0.0408 - acc: 0.9906\n",
      "Epoch 8/10\n",
      "6578/6578 [==============================] - 1s 124us/step - loss: 0.0208 - acc: 0.9964\n",
      "Epoch 9/10\n",
      "6578/6578 [==============================] - 1s 127us/step - loss: 0.0137 - acc: 0.9977\n",
      "Epoch 10/10\n",
      "6578/6578 [==============================] - 1s 129us/step - loss: 0.0148 - acc: 0.9968\n",
      "Epoch 1/10\n",
      "7105/7105 [==============================] - 1s 206us/step - loss: 0.6220 - acc: 0.8083\n",
      "Epoch 2/10\n",
      "7105/7105 [==============================] - 1s 127us/step - loss: 0.2009 - acc: 0.9417\n",
      "Epoch 3/10\n",
      "7105/7105 [==============================] - 1s 129us/step - loss: 0.1099 - acc: 0.9707\n",
      "Epoch 4/10\n",
      "7105/7105 [==============================] - 1s 136us/step - loss: 0.0696 - acc: 0.9807\n",
      "Epoch 5/10\n",
      "7105/7105 [==============================] - 1s 140us/step - loss: 0.0422 - acc: 0.9896\n",
      "Epoch 6/10\n",
      "7105/7105 [==============================] - 1s 126us/step - loss: 0.0270 - acc: 0.9928\n",
      "Epoch 7/10\n",
      "7105/7105 [==============================] - 1s 129us/step - loss: 0.0145 - acc: 0.9973\n",
      "Epoch 8/10\n",
      "7105/7105 [==============================] - 1s 129us/step - loss: 0.0127 - acc: 0.9975\n",
      "Epoch 9/10\n",
      "7105/7105 [==============================] - 1s 125us/step - loss: 0.0062 - acc: 0.9997\n",
      "Epoch 10/10\n",
      "7105/7105 [==============================] - 1s 134us/step - loss: 0.0045 - acc: 0.9993\n"
     ]
    }
   ],
   "source": [
    "# The algorithm to build the neural shrub\n",
    "train, train_label, test, test_label = get_data()\n",
    "\n",
    "dt_start = time.time()\n",
    "tree = decision_tree(train, train_label)\n",
    "dt_end = time.time()\n",
    "\n",
    "shrubs, max_time = neural_shrubs(tree, train, train_label)"
   ]
  },
  {
   "cell_type": "code",
   "execution_count": 8,
   "metadata": {},
   "outputs": [],
   "source": [
    "# predicts using the neural shrub\n",
    "def neural_shrub_predict(tree, nn_model, test, label):\n",
    "    label_test = np.array(label)\n",
    "    test = np.array(test)\n",
    "    \n",
    "    #row - actual; col - pred\n",
    "    confusion_matrix = np.zeros((10,10), dtype=np.int)\n",
    "    correct = 0\n",
    "    \n",
    "    for i in range(len(test)):\n",
    "        x = test[i]\n",
    "        pred_class = tree.predict([x])\n",
    "        x = np.array([x])\n",
    "        nn_model_class = nn_model[pred_class[0]]\n",
    "        pred = np.argmax(nn_model_class.predict(x))\n",
    "\n",
    "        confusion_matrix[label[i]][pred] = \\\n",
    "            confusion_matrix[label[i]][pred] + 1\n",
    "        if pred == label[i]: correct = correct + 1\n",
    "\n",
    "    acc_score = correct/len(test)\n",
    "    \n",
    "    return confusion_matrix, acc_score"
   ]
  },
  {
   "cell_type": "code",
   "execution_count": 9,
   "metadata": {},
   "outputs": [],
   "source": [
    "# function to calculate the metrics\n",
    "def metrics(cm, cls, size):\n",
    "    cm = np.array(cm)\n",
    "    tp = cm[cls][cls]\n",
    "    fp = sum(cm[x, cls] for x in range(10))-cm[cls][cls]\n",
    "    fn = sum(cm[cls, x] for x in range(10))-cm[cls][cls]\n",
    "    tn = size - tp - fp - fn\n",
    "    precision = tp/(tp+fp)\n",
    "    recall = tp/(tp+fn)\n",
    "    fmeasure = 2*(precision*recall)/(precision + recall)\n",
    "    accuracy = (tp + tn)/size\n",
    "    \n",
    "    return precision, recall, fmeasure, accuracy"
   ]
  },
  {
   "cell_type": "code",
   "execution_count": 10,
   "metadata": {},
   "outputs": [
    {
     "name": "stdout",
     "output_type": "stream",
     "text": [
      "Confusion Matrix:\n",
      "\n",
      " [[ 970    0    1    2    0    2    2    1    1    1]\n",
      " [   0 1123    2    3    0    2    1    2    2    0]\n",
      " [   4    2  988   15    5    1    3    5    7    2]\n",
      " [   1    0    7  978    1    6    0    5    6    6]\n",
      " [   1    1    0    0  944    0    5    6    3   22]\n",
      " [   3    1    0   20    2  841    8    0   11    6]\n",
      " [   6    3    1    1    4    5  935    0    3    0]\n",
      " [   2    5    9    4    5    1    0  993    1    8]\n",
      " [   4    3    5   10    6    9    3    5  922    7]\n",
      " [   2    3    2    6   14    3    1   10    3  965]]\n"
     ]
    }
   ],
   "source": [
    "# Predicting\n",
    "cm, acc_score = neural_shrub_predict(tree, shrubs, test, test_label)\n",
    "print(\"Confusion Matrix:\\n\\n\", cm)"
   ]
  },
  {
   "cell_type": "code",
   "execution_count": 11,
   "metadata": {},
   "outputs": [
    {
     "name": "stdout",
     "output_type": "stream",
     "text": [
      "        Precision Recall F-measure Accuracy\n",
      "Class 0:  0.977    0.99   0.983     0.997\n"
     ]
    }
   ],
   "source": [
    "# Class 0\n",
    "precision0, recall0, f0, acc0 = metrics(cm, 0, len(test))\n",
    "print(\"        Precision Recall F-measure Accuracy\")\n",
    "print(\"Class 0: \", round(precision0, 3), \"  \", round(recall0, 3), \\\n",
    "      \" \", round(f0, 3), \"   \", round(acc0,3))"
   ]
  },
  {
   "cell_type": "code",
   "execution_count": 12,
   "metadata": {},
   "outputs": [
    {
     "name": "stdout",
     "output_type": "stream",
     "text": [
      "        Precision Recall F-measure Accuracy\n",
      "Class 1:  0.984    0.989   0.987     0.997\n"
     ]
    }
   ],
   "source": [
    "# Class 1\n",
    "precision1, recall1, f1, acc1 = metrics(cm, 1, len(test))\n",
    "print(\"        Precision Recall F-measure Accuracy\")\n",
    "print(\"Class 1: \", round(precision1, 3), \"  \", round(recall1, 3), \\\n",
    "      \" \", round(f1, 3), \"   \", round(acc1,3))"
   ]
  },
  {
   "cell_type": "code",
   "execution_count": 13,
   "metadata": {},
   "outputs": [
    {
     "name": "stdout",
     "output_type": "stream",
     "text": [
      "        Precision Recall F-measure Accuracy\n",
      "Class 2:  0.973    0.957   0.965     0.993\n"
     ]
    }
   ],
   "source": [
    "# Class 2\n",
    "precision2, recall2, f2, acc2 = metrics(cm, 2, len(test))\n",
    "print(\"        Precision Recall F-measure Accuracy\")\n",
    "print(\"Class 2: \", round(precision2, 3), \"  \", round(recall2, 3), \\\n",
    "      \" \", round(f2, 3), \"   \", round(acc2,3))"
   ]
  },
  {
   "cell_type": "code",
   "execution_count": 14,
   "metadata": {},
   "outputs": [
    {
     "name": "stdout",
     "output_type": "stream",
     "text": [
      "        Precision Recall F-measure Accuracy\n",
      "Class 3:  0.941    0.968   0.955     0.991\n"
     ]
    }
   ],
   "source": [
    "# Class 3\n",
    "precision3, recall3, f3, acc3 = metrics(cm, 3, len(test))\n",
    "print(\"        Precision Recall F-measure Accuracy\")\n",
    "print(\"Class 3: \", round(precision3, 3), \"  \", round(recall3, 3), \\\n",
    "      \" \", round(f3, 3), \"   \", round(acc3,3))"
   ]
  },
  {
   "cell_type": "code",
   "execution_count": 15,
   "metadata": {},
   "outputs": [
    {
     "name": "stdout",
     "output_type": "stream",
     "text": [
      "        Precision Recall F-measure Accuracy\n",
      "Class 4:  0.962    0.961   0.962     0.992\n"
     ]
    }
   ],
   "source": [
    "# Class 4\n",
    "precision4, recall4, f4, acc4 = metrics(cm, 4, len(test))\n",
    "print(\"        Precision Recall F-measure Accuracy\")\n",
    "print(\"Class 4: \", round(precision4, 3), \"  \", round(recall4, 3), \\\n",
    "      \" \", round(f4, 3), \"   \", round(acc4,3))"
   ]
  },
  {
   "cell_type": "code",
   "execution_count": 16,
   "metadata": {},
   "outputs": [
    {
     "name": "stdout",
     "output_type": "stream",
     "text": [
      "        Precision Recall F-measure Accuracy\n",
      "Class 5:  0.967    0.943   0.955     0.992\n"
     ]
    }
   ],
   "source": [
    "# Class 5\n",
    "precision5, recall5, f5, acc5 = metrics(cm, 5, len(test))\n",
    "print(\"        Precision Recall F-measure Accuracy\")\n",
    "print(\"Class 5: \", round(precision5, 3), \"  \", round(recall5, 3), \\\n",
    "      \" \", round(f5, 3), \"   \", round(acc5,3))"
   ]
  },
  {
   "cell_type": "code",
   "execution_count": 17,
   "metadata": {},
   "outputs": [
    {
     "name": "stdout",
     "output_type": "stream",
     "text": [
      "        Precision Recall F-measure Accuracy\n",
      "Class 5:  0.967    0.943   0.955     0.992\n"
     ]
    }
   ],
   "source": [
    "# Class 5\n",
    "precision5, recall5, f5, acc5 = metrics(cm, 5, len(test))\n",
    "print(\"        Precision Recall F-measure Accuracy\")\n",
    "print(\"Class 5: \", round(precision5, 3), \"  \", round(recall5, 3), \\\n",
    "      \" \", round(f5, 3), \"   \", round(acc5,3))"
   ]
  },
  {
   "cell_type": "code",
   "execution_count": 18,
   "metadata": {},
   "outputs": [
    {
     "name": "stdout",
     "output_type": "stream",
     "text": [
      "        Precision Recall F-measure Accuracy\n",
      "Class 6:  0.976    0.976   0.976     0.995\n"
     ]
    }
   ],
   "source": [
    "# Class 6\n",
    "precision6, recall6, f6, acc6 = metrics(cm, 6, len(test))\n",
    "print(\"        Precision Recall F-measure Accuracy\")\n",
    "print(\"Class 6: \", round(precision6, 3), \"  \", round(recall6, 3), \\\n",
    "      \" \", round(f6, 3), \"   \", round(acc6,3))"
   ]
  },
  {
   "cell_type": "code",
   "execution_count": 19,
   "metadata": {},
   "outputs": [
    {
     "name": "stdout",
     "output_type": "stream",
     "text": [
      "        Precision Recall F-measure Accuracy\n",
      "Class 7:  0.977    0.966   0.966     0.993\n"
     ]
    }
   ],
   "source": [
    "# Class 7\n",
    "precision7, recall7, f7, acc7 = metrics(cm, 7, len(test))\n",
    "print(\"        Precision Recall F-measure Accuracy\")\n",
    "print(\"Class 7: \", round(precision0, 3), \"  \", round(recall7, 3), \\\n",
    "      \" \", round(f7, 3), \"   \", round(acc7,3))"
   ]
  },
  {
   "cell_type": "code",
   "execution_count": 20,
   "metadata": {},
   "outputs": [
    {
     "name": "stdout",
     "output_type": "stream",
     "text": [
      "        Precision Recall F-measure Accuracy\n",
      "Class 8:  0.961    0.947   0.954     0.991\n"
     ]
    }
   ],
   "source": [
    "# Class 8\n",
    "precision8, recall8, f8, acc8 = metrics(cm, 8, len(test))\n",
    "print(\"        Precision Recall F-measure Accuracy\")\n",
    "print(\"Class 8: \", round(precision8, 3), \"  \", round(recall8, 3), \\\n",
    "      \" \", round(f8, 3), \"   \", round(acc8,3))"
   ]
  },
  {
   "cell_type": "code",
   "execution_count": 21,
   "metadata": {},
   "outputs": [
    {
     "name": "stdout",
     "output_type": "stream",
     "text": [
      "        Precision Recall F-measure Accuracy\n",
      "Class 9:  0.949    0.956   0.953     0.99\n"
     ]
    }
   ],
   "source": [
    "# Class 9\n",
    "precision9, recall9, f9, acc9 = metrics(cm, 9, len(test))\n",
    "print(\"        Precision Recall F-measure Accuracy\")\n",
    "print(\"Class 9: \", round(precision9, 3), \"  \", round(recall9, 3), \\\n",
    "      \" \", round(f9, 3), \"   \", round(acc9,3))"
   ]
  },
  {
   "cell_type": "code",
   "execution_count": 22,
   "metadata": {},
   "outputs": [
    {
     "name": "stdout",
     "output_type": "stream",
     "text": [
      "Accuracy_score:  0.9659\n"
     ]
    }
   ],
   "source": [
    "# number of instances classified correctly\n",
    "print(\"Accuracy_score: \", round(acc_score, 5))"
   ]
  },
  {
   "cell_type": "code",
   "execution_count": 23,
   "metadata": {},
   "outputs": [
    {
     "name": "stdout",
     "output_type": "stream",
     "text": [
      "Training Time: 38.74031 sec\n"
     ]
    }
   ],
   "source": [
    "# training time\n",
    "total_time_taken = dt_end - dt_start + max_time\n",
    "print(\"Training Time: %s sec\" % round(total_time_taken, 5))"
   ]
  },
  {
   "cell_type": "code",
   "execution_count": null,
   "metadata": {},
   "outputs": [],
   "source": []
  },
  {
   "cell_type": "code",
   "execution_count": null,
   "metadata": {},
   "outputs": [],
   "source": []
  }
 ],
 "metadata": {
  "kernelspec": {
   "display_name": "Python 3",
   "language": "python",
   "name": "python3"
  },
  "language_info": {
   "codemirror_mode": {
    "name": "ipython",
    "version": 3
   },
   "file_extension": ".py",
   "mimetype": "text/x-python",
   "name": "python",
   "nbconvert_exporter": "python",
   "pygments_lexer": "ipython3",
   "version": "3.5.5"
  }
 },
 "nbformat": 4,
 "nbformat_minor": 2
}
