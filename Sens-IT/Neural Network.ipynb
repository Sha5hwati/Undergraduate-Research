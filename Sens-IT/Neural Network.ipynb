{
 "cells": [
  {
   "cell_type": "markdown",
   "metadata": {},
   "source": [
    "# Neural Network"
   ]
  },
  {
   "cell_type": "code",
   "execution_count": 1,
   "metadata": {},
   "outputs": [
    {
     "name": "stderr",
     "output_type": "stream",
     "text": [
      "/home/shashwati/anaconda3/envs/py35/lib/python3.5/site-packages/h5py/__init__.py:36: FutureWarning: Conversion of the second argument of issubdtype from `float` to `np.floating` is deprecated. In future, it will be treated as `np.float64 == np.dtype(float).type`.\n",
      "  from ._conv import register_converters as _register_converters\n",
      "Using TensorFlow backend.\n"
     ]
    }
   ],
   "source": [
    "import time\n",
    "import os, sys\n",
    "import string\n",
    "\n",
    "from sklearn.metrics import confusion_matrix\n",
    "from sklearn.metrics import accuracy_score\n",
    "\n",
    "from keras.utils import np_utils\n",
    "from sklearn.preprocessing import LabelEncoder\n",
    "from keras import Sequential\n",
    "from keras import layers\n",
    "\n",
    "import pandas as pd\n",
    "import numpy as np"
   ]
  },
  {
   "cell_type": "code",
   "execution_count": 2,
   "metadata": {},
   "outputs": [],
   "source": [
    "def get_data(dataset):\n",
    "    if os.path.isfile(dataset):\n",
    "        print(\"Loading \", dataset, \" dataset ...\")\n",
    "        data = pd.read_csv(dataset)\n",
    "        print(\"\\nDataset loaded successfully\\n\\n\")\n",
    "        return data\n",
    "    else:\n",
    "        print('File not found')\n",
    "        print('\\n\\nExiting...')\n",
    "        sys.exit()"
   ]
  },
  {
   "cell_type": "code",
   "execution_count": 3,
   "metadata": {},
   "outputs": [],
   "source": [
    "#The column names are [a, b, c, ..., z, A, B, C, ..., W]\n",
    "columnNames = list(string.ascii_lowercase)+ list(string.ascii_uppercase)[:23]"
   ]
  },
  {
   "cell_type": "code",
   "execution_count": 4,
   "metadata": {},
   "outputs": [
    {
     "name": "stdout",
     "output_type": "stream",
     "text": [
      "Loading  ./sensIT_train.csv  dataset ...\n",
      "\n",
      "Dataset loaded successfully\n",
      "\n",
      "\n",
      "Loading  ./sensIT_test.csv  dataset ...\n",
      "\n",
      "Dataset loaded successfully\n",
      "\n",
      "\n"
     ]
    }
   ],
   "source": [
    "dataset = get_data('./sensIT_train.csv')\n",
    "label_train = dataset['result']\n",
    "train = dataset[columnNames]\n",
    "\n",
    "dataset = get_data('./sensIT_test.csv')\n",
    "label_test = dataset['result']\n",
    "test = dataset[columnNames]"
   ]
  },
  {
   "cell_type": "code",
   "execution_count": 5,
   "metadata": {},
   "outputs": [],
   "source": [
    "train = np.array(train)\n",
    "test = np.array(test)\n",
    "label_test = np.array(label_test)\n",
    "label_train = np.array(label_train)"
   ]
  },
  {
   "cell_type": "code",
   "execution_count": 6,
   "metadata": {},
   "outputs": [
    {
     "name": "stderr",
     "output_type": "stream",
     "text": [
      "/home/shashwati/anaconda3/envs/py35/lib/python3.5/site-packages/ipykernel_launcher.py:16: UserWarning: Update your `Dense` call to the Keras 2 API: `Dense(30, kernel_initializer=\"uniform\", activation=\"relu\", input_dim=49)`\n",
      "  app.launch_new_instance()\n",
      "/home/shashwati/anaconda3/envs/py35/lib/python3.5/site-packages/ipykernel_launcher.py:17: UserWarning: Update your `Dense` call to the Keras 2 API: `Dense(10, kernel_initializer=\"uniform\", activation=\"relu\")`\n",
      "/home/shashwati/anaconda3/envs/py35/lib/python3.5/site-packages/ipykernel_launcher.py:18: UserWarning: Update your `Dense` call to the Keras 2 API: `Dense(3, kernel_initializer=\"uniform\", activation=\"softmax\")`\n"
     ]
    },
    {
     "name": "stdout",
     "output_type": "stream",
     "text": [
      "Epoch 1/15\n",
      "78823/78823 [==============================] - 1s 14us/step - loss: 0.9438 - acc: 0.5415\n",
      "Epoch 2/15\n",
      "78823/78823 [==============================] - 1s 9us/step - loss: 0.7421 - acc: 0.6437\n",
      "Epoch 3/15\n",
      "78823/78823 [==============================] - 1s 10us/step - loss: 0.6969 - acc: 0.6829\n",
      "Epoch 4/15\n",
      "78823/78823 [==============================] - 1s 9us/step - loss: 0.6730 - acc: 0.6981\n",
      "Epoch 5/15\n",
      "78823/78823 [==============================] - 1s 10us/step - loss: 0.6620 - acc: 0.7049\n",
      "Epoch 6/15\n",
      "78823/78823 [==============================] - 1s 10us/step - loss: 0.6553 - acc: 0.7071\n",
      "Epoch 7/15\n",
      "78823/78823 [==============================] - 1s 9us/step - loss: 0.6499 - acc: 0.7094\n",
      "Epoch 8/15\n",
      "78823/78823 [==============================] - 1s 10us/step - loss: 0.6463 - acc: 0.7108\n",
      "Epoch 9/15\n",
      "78823/78823 [==============================] - 1s 10us/step - loss: 0.6440 - acc: 0.7116\n",
      "Epoch 10/15\n",
      "78823/78823 [==============================] - 1s 10us/step - loss: 0.6415 - acc: 0.7125\n",
      "Epoch 11/15\n",
      "78823/78823 [==============================] - 1s 9us/step - loss: 0.6394 - acc: 0.7135\n",
      "Epoch 12/15\n",
      "78823/78823 [==============================] - 1s 10us/step - loss: 0.6377 - acc: 0.7133\n",
      "Epoch 13/15\n",
      "78823/78823 [==============================] - 1s 10us/step - loss: 0.6364 - acc: 0.7139\n",
      "Epoch 14/15\n",
      "78823/78823 [==============================] - 1s 10us/step - loss: 0.6345 - acc: 0.7152\n",
      "Epoch 15/15\n",
      "78823/78823 [==============================] - 1s 10us/step - loss: 0.6330 - acc: 0.7157\n"
     ]
    }
   ],
   "source": [
    "# training the neural network\n",
    "start_time = time.time()\n",
    "\n",
    "# preprocessing the test and train data set\n",
    "encoder = LabelEncoder()\n",
    "encoder.fit(label_train)\n",
    "label_train = encoder.transform(label_train)\n",
    "label_train = np_utils.to_categorical(label_train)\n",
    "\n",
    "encoder.fit(label_test)\n",
    "label_test = encoder.transform(label_test)\n",
    "label_test = np_utils.to_categorical(label_test)\n",
    "\n",
    "# neural network structure\n",
    "model = Sequential()\n",
    "model.add(layers.Dense(30,init = 'uniform', activation = 'relu', input_dim = 49))\n",
    "model.add(layers.Dense(10,init = 'uniform', activation = 'relu'))\n",
    "model.add(layers.Dense(3, init = 'uniform', activation = 'softmax'))\n",
    "model.compile(loss='categorical_crossentropy', metrics=['accuracy'], optimizer='adam')\n",
    "              \n",
    "model.fit(train, label_train, epochs=15, batch_size=500)\n",
    "end_time = time.time()"
   ]
  },
  {
   "cell_type": "code",
   "execution_count": 7,
   "metadata": {},
   "outputs": [],
   "source": [
    "# predicting\n",
    "pred = model.predict(test)\n",
    "\n",
    "# Getting the classes \n",
    "pred = np.argmax(pred, axis=1)\n",
    "label_test = np.argmax(label_test, axis=1)"
   ]
  },
  {
   "cell_type": "code",
   "execution_count": 8,
   "metadata": {},
   "outputs": [],
   "source": [
    "def metrics(cm, cls, size):\n",
    "    cm = np.array(cm)\n",
    "    tp = cm[cls][cls]\n",
    "    fp = sum(cm[x, cls] for x in range(3))-cm[cls][cls]\n",
    "    fn = sum(cm[cls, x] for x in range(3))-cm[cls][cls]\n",
    "    tn = size - tp - fp - fn\n",
    "    precision = tp/(tp+fp)\n",
    "    recall = tp/(tp+fn)\n",
    "    fmeasure = 2*(precision*recall)/(precision + recall)\n",
    "    accuracy = (tp + tn)/size\n",
    "    \n",
    "    return precision, recall, fmeasure, accuracy"
   ]
  },
  {
   "cell_type": "code",
   "execution_count": 9,
   "metadata": {},
   "outputs": [
    {
     "name": "stdout",
     "output_type": "stream",
     "text": [
      "Confusion Matrix:\n",
      " \n",
      "[[3077 1359  167]\n",
      " [1272 3013 1025]\n",
      " [ 640 1260 7892]]\n"
     ]
    }
   ],
   "source": [
    "# Rows: Actual\n",
    "# Cols: Predicted\n",
    "# Classes: 1, 2, 3\n",
    "cm = confusion_matrix(label_test, pred)\n",
    "print(\"Confusion Matrix:\\n \")\n",
    "print(cm)"
   ]
  },
  {
   "cell_type": "code",
   "execution_count": 10,
   "metadata": {},
   "outputs": [
    {
     "name": "stdout",
     "output_type": "stream",
     "text": [
      "        Precision Recall F-measure Accuracy\n",
      "Class 1:  0.617    0.668   0.642     0.826\n"
     ]
    }
   ],
   "source": [
    "# Class 1\n",
    "precision0, recall0, f0, acc0 = metrics(cm, 0, len(test))\n",
    "print(\"        Precision Recall F-measure Accuracy\")\n",
    "print(\"Class 1: \", round(precision0, 3), \"  \", round(recall0, 3), \\\n",
    "      \" \", round(f0, 3), \"   \", round(acc0,3))"
   ]
  },
  {
   "cell_type": "code",
   "execution_count": 11,
   "metadata": {},
   "outputs": [
    {
     "name": "stdout",
     "output_type": "stream",
     "text": [
      "        Precision Recall F-measure Accuracy\n",
      "Class 2:  0.535    0.567   0.551     0.751\n"
     ]
    }
   ],
   "source": [
    "# Class 2\n",
    "precision1, recall1, f1, acc1 = metrics(cm, 1, len(test))\n",
    "print(\"        Precision Recall F-measure Accuracy\")\n",
    "print(\"Class 2: \", round(precision1, 3), \"  \", round(recall1, 3), \\\n",
    "      \" \", round(f1, 3), \"   \", round(acc1,3))"
   ]
  },
  {
   "cell_type": "code",
   "execution_count": 12,
   "metadata": {},
   "outputs": [
    {
     "name": "stdout",
     "output_type": "stream",
     "text": [
      "        Precision Recall F-measure Accuracy\n",
      "Class 3:  0.869    0.806   0.836     0.843\n"
     ]
    }
   ],
   "source": [
    "# Class 3\n",
    "precision2, recall2, f2, acc2 = metrics(cm, 2, len(test))\n",
    "print(\"        Precision Recall F-measure Accuracy\")\n",
    "print(\"Class 3: \", round(precision2, 3), \"  \", round(recall2, 3), \\\n",
    "      \" \", round(f2, 3), \"   \", round(acc2,3))"
   ]
  },
  {
   "cell_type": "code",
   "execution_count": 13,
   "metadata": {},
   "outputs": [
    {
     "name": "stdout",
     "output_type": "stream",
     "text": [
      "        Precision Recall F-measure Accuracy\n",
      "Average:  0.674    0.681   0.676     0.806\n"
     ]
    }
   ],
   "source": [
    "avg_p = (precision0 + precision1 + precision2)/3.0\n",
    "avg_r = (recall0 + recall1 + recall2) / 3.0\n",
    "avg_f = (f0 + f1 + f2) / 3.0\n",
    "avg_a = (acc0 + acc1 + acc2)/ 3.0\n",
    "print(\"        Precision Recall F-measure Accuracy\")\n",
    "print(\"Average: \", round(avg_p, 3), \"  \", round(avg_r, 3), \\\n",
    "      \" \", round(avg_f, 3), \"   \", round(avg_a,3))"
   ]
  },
  {
   "cell_type": "code",
   "execution_count": 14,
   "metadata": {},
   "outputs": [
    {
     "name": "stdout",
     "output_type": "stream",
     "text": [
      "Accuracy_score:  0.7096\n",
      "Training Time: 12.126 secs\n"
     ]
    }
   ],
   "source": [
    "# Number of instances correctly classified\n",
    "acc_score = accuracy_score(pred, label_test)\n",
    "print(\"Accuracy_score: \", round(acc_score, 4))\n",
    "print(\"Training Time: %s secs\" % round(end_time - start_time, 3))"
   ]
  },
  {
   "cell_type": "code",
   "execution_count": null,
   "metadata": {},
   "outputs": [],
   "source": []
  }
 ],
 "metadata": {
  "kernelspec": {
   "display_name": "Python 3",
   "language": "python",
   "name": "python3"
  },
  "language_info": {
   "codemirror_mode": {
    "name": "ipython",
    "version": 3
   },
   "file_extension": ".py",
   "mimetype": "text/x-python",
   "name": "python",
   "nbconvert_exporter": "python",
   "pygments_lexer": "ipython3",
   "version": "3.5.5"
  }
 },
 "nbformat": 4,
 "nbformat_minor": 2
}
